{
 "cells": [
  {
   "cell_type": "code",
   "execution_count": 1,
   "metadata": {
    "collapsed": true
   },
   "outputs": [],
   "source": [
    "import twitter"
   ]
  },
  {
   "cell_type": "code",
   "execution_count": 2,
   "metadata": {
    "collapsed": true
   },
   "outputs": [],
   "source": [
    "CONSUMER_KEY=''\n",
    "CONSUMER_SECRET = ''\n",
    "ACCESS_TOKEN = ''\n",
    "ACCESS_TOKEN_SECRET = ''"
   ]
  },
  {
   "cell_type": "code",
   "execution_count": 7,
   "metadata": {
    "collapsed": true
   },
   "outputs": [],
   "source": [
    "api = twitter.Api(consumer_key=CONSUMER_KEY,\n",
    "                  consumer_secret=CONSUMER_SECRET,\n",
    "                  access_token_key=ACCESS_TOKEN,\n",
    "                  access_token_secret=ACCESS_TOKEN_SECRET)"
   ]
  },
  {
   "cell_type": "markdown",
   "metadata": {},
   "source": [
    "# Import Account data & Scarping from twitter "
   ]
  },
  {
   "cell_type": "code",
   "execution_count": 8,
   "metadata": {
    "collapsed": true
   },
   "outputs": [],
   "source": [
    "import pandas as pd"
   ]
  },
  {
   "cell_type": "code",
   "execution_count": 9,
   "metadata": {},
   "outputs": [],
   "source": [
    "fanpage = pd.read_csv('twitter_acc.csv', names=['bnk_name', 'fanpage'])"
   ]
  },
  {
   "cell_type": "code",
   "execution_count": 30,
   "metadata": {},
   "outputs": [],
   "source": [
    "follower_df = pd.DataFrame(columns=['member', 'follwer_id'], dtype=str)\n",
    "\n",
    "def create_follower_df(member, follower_ids):\n",
    "    return pd.DataFrame([(member, follower) for follower in follower_ids], columns=['member', 'follwer_id'])"
   ]
  },
  {
   "cell_type": "code",
   "execution_count": 31,
   "metadata": {},
   "outputs": [
    {
     "name": "stdout",
     "output_type": "stream",
     "text": [
      "Fetching Satchan BNK48 FC\n",
      "Fetching Satchan FanClub\n",
      "Fetching TarwaanBNK48_TH Fans \n",
      "Fetching Tarwaan BNK48 Oshi\n",
      "Fetching Tarwaan 🌠MAKE MY DAY\n"
     ]
    }
   ],
   "source": [
    "from time import sleep\n",
    "\n",
    "for twitter_account in fanpage.iloc[36:].itertuples():\n",
    "    acc = twitter_account.fanpage\n",
    "    print('Fetching ' + acc)\n",
    "        \n",
    "    twitter_id = api.GetUsersSearch(acc)[0]\n",
    "    follower_ids = api.GetFollowerIDs(twitter_id.id)\n",
    "    follower_df = follower_df.append(create_follower_df(twitter_account.bnk_name, follower_ids))\n",
    "    \n",
    "    sleep(90)"
   ]
  },
  {
   "cell_type": "code",
   "execution_count": 32,
   "metadata": {},
   "outputs": [],
   "source": [
    "follower_df.to_csv('follower.csv',  index=False)"
   ]
  },
  {
   "cell_type": "code",
   "execution_count": null,
   "metadata": {
    "collapsed": true
   },
   "outputs": [],
   "source": []
  }
 ],
 "metadata": {
  "kernelspec": {
   "display_name": "Python 3",
   "language": "python",
   "name": "python3"
  },
  "language_info": {
   "codemirror_mode": {
    "name": "ipython",
    "version": 3
   },
   "file_extension": ".py",
   "mimetype": "text/x-python",
   "name": "python",
   "nbconvert_exporter": "python",
   "pygments_lexer": "ipython3",
   "version": "3.6.3"
  }
 },
 "nbformat": 4,
 "nbformat_minor": 2
}
