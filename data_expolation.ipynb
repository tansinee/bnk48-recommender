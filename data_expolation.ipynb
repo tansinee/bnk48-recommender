{
 "cells": [
  {
   "cell_type": "markdown",
   "metadata": {},
   "source": [
    "# Data Exploration\n",
    "\n",
    "Dive into favorite dataframe to see what happened with the data and how we gonna use it.\n",
    "\n",
    "**DISCLAIMER**: This study is for my personal machine learning & recommender system study, it cannot indicate actual performance of the members. The data is gathered from twitter @ 2018/02/14. Eventhough twitter platform is not popular in Thailand, it's the only source allow me to fetch unique ID of follower (even I got stuck its rate limit and retries for several times)"
   ]
  },
  {
   "cell_type": "code",
   "execution_count": 1,
   "metadata": {},
   "outputs": [
    {
     "data": {
      "text/html": [
       "\n",
       "    <div class=\"bk-root\">\n",
       "        <a href=\"https://bokeh.pydata.org\" target=\"_blank\" class=\"bk-logo bk-logo-small bk-logo-notebook\"></a>\n",
       "        <span id=\"990a4271-951c-4c2c-bd5f-88bbeb3eaa9b\">Loading BokehJS ...</span>\n",
       "    </div>"
      ]
     },
     "metadata": {},
     "output_type": "display_data"
    },
    {
     "data": {
      "application/javascript": [
       "\n",
       "(function(root) {\n",
       "  function now() {\n",
       "    return new Date();\n",
       "  }\n",
       "\n",
       "  var force = true;\n",
       "\n",
       "  if (typeof (root._bokeh_onload_callbacks) === \"undefined\" || force === true) {\n",
       "    root._bokeh_onload_callbacks = [];\n",
       "    root._bokeh_is_loading = undefined;\n",
       "  }\n",
       "\n",
       "  var JS_MIME_TYPE = 'application/javascript';\n",
       "  var HTML_MIME_TYPE = 'text/html';\n",
       "  var EXEC_MIME_TYPE = 'application/vnd.bokehjs_exec.v0+json';\n",
       "  var CLASS_NAME = 'output_bokeh rendered_html';\n",
       "\n",
       "  /**\n",
       "   * Render data to the DOM node\n",
       "   */\n",
       "  function render(props, node) {\n",
       "    var script = document.createElement(\"script\");\n",
       "    node.appendChild(script);\n",
       "  }\n",
       "\n",
       "  /**\n",
       "   * Handle when an output is cleared or removed\n",
       "   */\n",
       "  function handleClearOutput(event, handle) {\n",
       "    var cell = handle.cell;\n",
       "\n",
       "    var id = cell.output_area._bokeh_element_id;\n",
       "    var server_id = cell.output_area._bokeh_server_id;\n",
       "    // Clean up Bokeh references\n",
       "    if (id !== undefined) {\n",
       "      Bokeh.index[id].model.document.clear();\n",
       "      delete Bokeh.index[id];\n",
       "    }\n",
       "\n",
       "    if (server_id !== undefined) {\n",
       "      // Clean up Bokeh references\n",
       "      var cmd = \"from bokeh.io.state import curstate; print(curstate().uuid_to_server['\" + server_id + \"'].get_sessions()[0].document.roots[0]._id)\";\n",
       "      cell.notebook.kernel.execute(cmd, {\n",
       "        iopub: {\n",
       "          output: function(msg) {\n",
       "            var element_id = msg.content.text.trim();\n",
       "            Bokeh.index[element_id].model.document.clear();\n",
       "            delete Bokeh.index[element_id];\n",
       "          }\n",
       "        }\n",
       "      });\n",
       "      // Destroy server and session\n",
       "      var cmd = \"import bokeh.io.notebook as ion; ion.destroy_server('\" + server_id + \"')\";\n",
       "      cell.notebook.kernel.execute(cmd);\n",
       "    }\n",
       "  }\n",
       "\n",
       "  /**\n",
       "   * Handle when a new output is added\n",
       "   */\n",
       "  function handleAddOutput(event, handle) {\n",
       "    var output_area = handle.output_area;\n",
       "    var output = handle.output;\n",
       "\n",
       "    // limit handleAddOutput to display_data with EXEC_MIME_TYPE content only\n",
       "    if ((output.output_type != \"display_data\") || (!output.data.hasOwnProperty(EXEC_MIME_TYPE))) {\n",
       "      return\n",
       "    }\n",
       "\n",
       "    var toinsert = output_area.element.find(`.${CLASS_NAME.split(' ')[0]}`);\n",
       "\n",
       "    if (output.metadata[EXEC_MIME_TYPE][\"id\"] !== undefined) {\n",
       "      toinsert[0].firstChild.textContent = output.data[JS_MIME_TYPE];\n",
       "      // store reference to embed id on output_area\n",
       "      output_area._bokeh_element_id = output.metadata[EXEC_MIME_TYPE][\"id\"];\n",
       "    }\n",
       "    if (output.metadata[EXEC_MIME_TYPE][\"server_id\"] !== undefined) {\n",
       "      var bk_div = document.createElement(\"div\");\n",
       "      bk_div.innerHTML = output.data[HTML_MIME_TYPE];\n",
       "      var script_attrs = bk_div.children[0].attributes;\n",
       "      for (var i = 0; i < script_attrs.length; i++) {\n",
       "        toinsert[0].firstChild.setAttribute(script_attrs[i].name, script_attrs[i].value);\n",
       "      }\n",
       "      // store reference to server id on output_area\n",
       "      output_area._bokeh_server_id = output.metadata[EXEC_MIME_TYPE][\"server_id\"];\n",
       "    }\n",
       "  }\n",
       "\n",
       "  function register_renderer(events, OutputArea) {\n",
       "\n",
       "    function append_mime(data, metadata, element) {\n",
       "      // create a DOM node to render to\n",
       "      var toinsert = this.create_output_subarea(\n",
       "        metadata,\n",
       "        CLASS_NAME,\n",
       "        EXEC_MIME_TYPE\n",
       "      );\n",
       "      this.keyboard_manager.register_events(toinsert);\n",
       "      // Render to node\n",
       "      var props = {data: data, metadata: metadata[EXEC_MIME_TYPE]};\n",
       "      render(props, toinsert[0]);\n",
       "      element.append(toinsert);\n",
       "      return toinsert\n",
       "    }\n",
       "\n",
       "    /* Handle when an output is cleared or removed */\n",
       "    events.on('clear_output.CodeCell', handleClearOutput);\n",
       "    events.on('delete.Cell', handleClearOutput);\n",
       "\n",
       "    /* Handle when a new output is added */\n",
       "    events.on('output_added.OutputArea', handleAddOutput);\n",
       "\n",
       "    /**\n",
       "     * Register the mime type and append_mime function with output_area\n",
       "     */\n",
       "    OutputArea.prototype.register_mime_type(EXEC_MIME_TYPE, append_mime, {\n",
       "      /* Is output safe? */\n",
       "      safe: true,\n",
       "      /* Index of renderer in `output_area.display_order` */\n",
       "      index: 0\n",
       "    });\n",
       "  }\n",
       "\n",
       "  // register the mime type if in Jupyter Notebook environment and previously unregistered\n",
       "  if (root.Jupyter !== undefined) {\n",
       "    var events = require('base/js/events');\n",
       "    var OutputArea = require('notebook/js/outputarea').OutputArea;\n",
       "\n",
       "    if (OutputArea.prototype.mime_types().indexOf(EXEC_MIME_TYPE) == -1) {\n",
       "      register_renderer(events, OutputArea);\n",
       "    }\n",
       "  }\n",
       "\n",
       "  \n",
       "  if (typeof (root._bokeh_timeout) === \"undefined\" || force === true) {\n",
       "    root._bokeh_timeout = Date.now() + 5000;\n",
       "    root._bokeh_failed_load = false;\n",
       "  }\n",
       "\n",
       "  var NB_LOAD_WARNING = {'data': {'text/html':\n",
       "     \"<div style='background-color: #fdd'>\\n\"+\n",
       "     \"<p>\\n\"+\n",
       "     \"BokehJS does not appear to have successfully loaded. If loading BokehJS from CDN, this \\n\"+\n",
       "     \"may be due to a slow or bad network connection. Possible fixes:\\n\"+\n",
       "     \"</p>\\n\"+\n",
       "     \"<ul>\\n\"+\n",
       "     \"<li>re-rerun `output_notebook()` to attempt to load from CDN again, or</li>\\n\"+\n",
       "     \"<li>use INLINE resources instead, as so:</li>\\n\"+\n",
       "     \"</ul>\\n\"+\n",
       "     \"<code>\\n\"+\n",
       "     \"from bokeh.resources import INLINE\\n\"+\n",
       "     \"output_notebook(resources=INLINE)\\n\"+\n",
       "     \"</code>\\n\"+\n",
       "     \"</div>\"}};\n",
       "\n",
       "  function display_loaded() {\n",
       "    var el = document.getElementById(\"990a4271-951c-4c2c-bd5f-88bbeb3eaa9b\");\n",
       "    if (el != null) {\n",
       "      el.textContent = \"BokehJS is loading...\";\n",
       "    }\n",
       "    if (root.Bokeh !== undefined) {\n",
       "      if (el != null) {\n",
       "        el.textContent = \"BokehJS \" + root.Bokeh.version + \" successfully loaded.\";\n",
       "      }\n",
       "    } else if (Date.now() < root._bokeh_timeout) {\n",
       "      setTimeout(display_loaded, 100)\n",
       "    }\n",
       "  }\n",
       "\n",
       "\n",
       "  function run_callbacks() {\n",
       "    try {\n",
       "      root._bokeh_onload_callbacks.forEach(function(callback) { callback() });\n",
       "    }\n",
       "    finally {\n",
       "      delete root._bokeh_onload_callbacks\n",
       "    }\n",
       "    console.info(\"Bokeh: all callbacks have finished\");\n",
       "  }\n",
       "\n",
       "  function load_libs(js_urls, callback) {\n",
       "    root._bokeh_onload_callbacks.push(callback);\n",
       "    if (root._bokeh_is_loading > 0) {\n",
       "      console.log(\"Bokeh: BokehJS is being loaded, scheduling callback at\", now());\n",
       "      return null;\n",
       "    }\n",
       "    if (js_urls == null || js_urls.length === 0) {\n",
       "      run_callbacks();\n",
       "      return null;\n",
       "    }\n",
       "    console.log(\"Bokeh: BokehJS not loaded, scheduling load and callback at\", now());\n",
       "    root._bokeh_is_loading = js_urls.length;\n",
       "    for (var i = 0; i < js_urls.length; i++) {\n",
       "      var url = js_urls[i];\n",
       "      var s = document.createElement('script');\n",
       "      s.src = url;\n",
       "      s.async = false;\n",
       "      s.onreadystatechange = s.onload = function() {\n",
       "        root._bokeh_is_loading--;\n",
       "        if (root._bokeh_is_loading === 0) {\n",
       "          console.log(\"Bokeh: all BokehJS libraries loaded\");\n",
       "          run_callbacks()\n",
       "        }\n",
       "      };\n",
       "      s.onerror = function() {\n",
       "        console.warn(\"failed to load library \" + url);\n",
       "      };\n",
       "      console.log(\"Bokeh: injecting script tag for BokehJS library: \", url);\n",
       "      document.getElementsByTagName(\"head\")[0].appendChild(s);\n",
       "    }\n",
       "  };var element = document.getElementById(\"990a4271-951c-4c2c-bd5f-88bbeb3eaa9b\");\n",
       "  if (element == null) {\n",
       "    console.log(\"Bokeh: ERROR: autoload.js configured with elementid '990a4271-951c-4c2c-bd5f-88bbeb3eaa9b' but no matching script tag was found. \")\n",
       "    return false;\n",
       "  }\n",
       "\n",
       "  var js_urls = [\"https://cdn.pydata.org/bokeh/release/bokeh-0.12.10.min.js\", \"https://cdn.pydata.org/bokeh/release/bokeh-widgets-0.12.10.min.js\", \"https://cdn.pydata.org/bokeh/release/bokeh-tables-0.12.10.min.js\", \"https://cdn.pydata.org/bokeh/release/bokeh-gl-0.12.10.min.js\"];\n",
       "\n",
       "  var inline_js = [\n",
       "    function(Bokeh) {\n",
       "      Bokeh.set_log_level(\"info\");\n",
       "    },\n",
       "    \n",
       "    function(Bokeh) {\n",
       "      \n",
       "    },\n",
       "    function(Bokeh) {\n",
       "      console.log(\"Bokeh: injecting CSS: https://cdn.pydata.org/bokeh/release/bokeh-0.12.10.min.css\");\n",
       "      Bokeh.embed.inject_css(\"https://cdn.pydata.org/bokeh/release/bokeh-0.12.10.min.css\");\n",
       "      console.log(\"Bokeh: injecting CSS: https://cdn.pydata.org/bokeh/release/bokeh-widgets-0.12.10.min.css\");\n",
       "      Bokeh.embed.inject_css(\"https://cdn.pydata.org/bokeh/release/bokeh-widgets-0.12.10.min.css\");\n",
       "      console.log(\"Bokeh: injecting CSS: https://cdn.pydata.org/bokeh/release/bokeh-tables-0.12.10.min.css\");\n",
       "      Bokeh.embed.inject_css(\"https://cdn.pydata.org/bokeh/release/bokeh-tables-0.12.10.min.css\");\n",
       "    }\n",
       "  ];\n",
       "\n",
       "  function run_inline_js() {\n",
       "    \n",
       "    if ((root.Bokeh !== undefined) || (force === true)) {\n",
       "      for (var i = 0; i < inline_js.length; i++) {\n",
       "        inline_js[i].call(root, root.Bokeh);\n",
       "      }if (force === true) {\n",
       "        display_loaded();\n",
       "      }} else if (Date.now() < root._bokeh_timeout) {\n",
       "      setTimeout(run_inline_js, 100);\n",
       "    } else if (!root._bokeh_failed_load) {\n",
       "      console.log(\"Bokeh: BokehJS failed to load within specified timeout.\");\n",
       "      root._bokeh_failed_load = true;\n",
       "    } else if (force !== true) {\n",
       "      var cell = $(document.getElementById(\"990a4271-951c-4c2c-bd5f-88bbeb3eaa9b\")).parents('.cell').data().cell;\n",
       "      cell.output_area.append_execute_result(NB_LOAD_WARNING)\n",
       "    }\n",
       "\n",
       "  }\n",
       "\n",
       "  if (root._bokeh_is_loading === 0) {\n",
       "    console.log(\"Bokeh: BokehJS loaded, going straight to plotting\");\n",
       "    run_inline_js();\n",
       "  } else {\n",
       "    load_libs(js_urls, function() {\n",
       "      console.log(\"Bokeh: BokehJS plotting callback run at\", now());\n",
       "      run_inline_js();\n",
       "    });\n",
       "  }\n",
       "}(window));"
      ],
      "application/vnd.bokehjs_load.v0+json": "\n(function(root) {\n  function now() {\n    return new Date();\n  }\n\n  var force = true;\n\n  if (typeof (root._bokeh_onload_callbacks) === \"undefined\" || force === true) {\n    root._bokeh_onload_callbacks = [];\n    root._bokeh_is_loading = undefined;\n  }\n\n  \n\n  \n  if (typeof (root._bokeh_timeout) === \"undefined\" || force === true) {\n    root._bokeh_timeout = Date.now() + 5000;\n    root._bokeh_failed_load = false;\n  }\n\n  var NB_LOAD_WARNING = {'data': {'text/html':\n     \"<div style='background-color: #fdd'>\\n\"+\n     \"<p>\\n\"+\n     \"BokehJS does not appear to have successfully loaded. If loading BokehJS from CDN, this \\n\"+\n     \"may be due to a slow or bad network connection. Possible fixes:\\n\"+\n     \"</p>\\n\"+\n     \"<ul>\\n\"+\n     \"<li>re-rerun `output_notebook()` to attempt to load from CDN again, or</li>\\n\"+\n     \"<li>use INLINE resources instead, as so:</li>\\n\"+\n     \"</ul>\\n\"+\n     \"<code>\\n\"+\n     \"from bokeh.resources import INLINE\\n\"+\n     \"output_notebook(resources=INLINE)\\n\"+\n     \"</code>\\n\"+\n     \"</div>\"}};\n\n  function display_loaded() {\n    var el = document.getElementById(\"990a4271-951c-4c2c-bd5f-88bbeb3eaa9b\");\n    if (el != null) {\n      el.textContent = \"BokehJS is loading...\";\n    }\n    if (root.Bokeh !== undefined) {\n      if (el != null) {\n        el.textContent = \"BokehJS \" + root.Bokeh.version + \" successfully loaded.\";\n      }\n    } else if (Date.now() < root._bokeh_timeout) {\n      setTimeout(display_loaded, 100)\n    }\n  }\n\n\n  function run_callbacks() {\n    try {\n      root._bokeh_onload_callbacks.forEach(function(callback) { callback() });\n    }\n    finally {\n      delete root._bokeh_onload_callbacks\n    }\n    console.info(\"Bokeh: all callbacks have finished\");\n  }\n\n  function load_libs(js_urls, callback) {\n    root._bokeh_onload_callbacks.push(callback);\n    if (root._bokeh_is_loading > 0) {\n      console.log(\"Bokeh: BokehJS is being loaded, scheduling callback at\", now());\n      return null;\n    }\n    if (js_urls == null || js_urls.length === 0) {\n      run_callbacks();\n      return null;\n    }\n    console.log(\"Bokeh: BokehJS not loaded, scheduling load and callback at\", now());\n    root._bokeh_is_loading = js_urls.length;\n    for (var i = 0; i < js_urls.length; i++) {\n      var url = js_urls[i];\n      var s = document.createElement('script');\n      s.src = url;\n      s.async = false;\n      s.onreadystatechange = s.onload = function() {\n        root._bokeh_is_loading--;\n        if (root._bokeh_is_loading === 0) {\n          console.log(\"Bokeh: all BokehJS libraries loaded\");\n          run_callbacks()\n        }\n      };\n      s.onerror = function() {\n        console.warn(\"failed to load library \" + url);\n      };\n      console.log(\"Bokeh: injecting script tag for BokehJS library: \", url);\n      document.getElementsByTagName(\"head\")[0].appendChild(s);\n    }\n  };var element = document.getElementById(\"990a4271-951c-4c2c-bd5f-88bbeb3eaa9b\");\n  if (element == null) {\n    console.log(\"Bokeh: ERROR: autoload.js configured with elementid '990a4271-951c-4c2c-bd5f-88bbeb3eaa9b' but no matching script tag was found. \")\n    return false;\n  }\n\n  var js_urls = [\"https://cdn.pydata.org/bokeh/release/bokeh-0.12.10.min.js\", \"https://cdn.pydata.org/bokeh/release/bokeh-widgets-0.12.10.min.js\", \"https://cdn.pydata.org/bokeh/release/bokeh-tables-0.12.10.min.js\", \"https://cdn.pydata.org/bokeh/release/bokeh-gl-0.12.10.min.js\"];\n\n  var inline_js = [\n    function(Bokeh) {\n      Bokeh.set_log_level(\"info\");\n    },\n    \n    function(Bokeh) {\n      \n    },\n    function(Bokeh) {\n      console.log(\"Bokeh: injecting CSS: https://cdn.pydata.org/bokeh/release/bokeh-0.12.10.min.css\");\n      Bokeh.embed.inject_css(\"https://cdn.pydata.org/bokeh/release/bokeh-0.12.10.min.css\");\n      console.log(\"Bokeh: injecting CSS: https://cdn.pydata.org/bokeh/release/bokeh-widgets-0.12.10.min.css\");\n      Bokeh.embed.inject_css(\"https://cdn.pydata.org/bokeh/release/bokeh-widgets-0.12.10.min.css\");\n      console.log(\"Bokeh: injecting CSS: https://cdn.pydata.org/bokeh/release/bokeh-tables-0.12.10.min.css\");\n      Bokeh.embed.inject_css(\"https://cdn.pydata.org/bokeh/release/bokeh-tables-0.12.10.min.css\");\n    }\n  ];\n\n  function run_inline_js() {\n    \n    if ((root.Bokeh !== undefined) || (force === true)) {\n      for (var i = 0; i < inline_js.length; i++) {\n        inline_js[i].call(root, root.Bokeh);\n      }if (force === true) {\n        display_loaded();\n      }} else if (Date.now() < root._bokeh_timeout) {\n      setTimeout(run_inline_js, 100);\n    } else if (!root._bokeh_failed_load) {\n      console.log(\"Bokeh: BokehJS failed to load within specified timeout.\");\n      root._bokeh_failed_load = true;\n    } else if (force !== true) {\n      var cell = $(document.getElementById(\"990a4271-951c-4c2c-bd5f-88bbeb3eaa9b\")).parents('.cell').data().cell;\n      cell.output_area.append_execute_result(NB_LOAD_WARNING)\n    }\n\n  }\n\n  if (root._bokeh_is_loading === 0) {\n    console.log(\"Bokeh: BokehJS loaded, going straight to plotting\");\n    run_inline_js();\n  } else {\n    load_libs(js_urls, function() {\n      console.log(\"Bokeh: BokehJS plotting callback run at\", now());\n      run_inline_js();\n    });\n  }\n}(window));"
     },
     "metadata": {},
     "output_type": "display_data"
    }
   ],
   "source": [
    "import pandas as pd\n",
    "from bokeh.plotting import figure\n",
    "from bokeh.io import output_notebook\n",
    "\n",
    "output_notebook()"
   ]
  },
  {
   "cell_type": "markdown",
   "metadata": {},
   "source": [
    "## Rating Implication\n",
    "\n",
    "I decided to use **implicit rating** rather than explicit ones because I could not find source of data!! \n",
    "\n",
    "Only source that I could grab behaviour of individual identity was only *twitter* left, even though it was not very popular in TH and there was not official page of each member. I searched several pages by their name + BNK48 and used my personal judgement + mood to choose them. So, instead of putting huge effort to scale rating for each user, I decided to imply that if they follow one on member's page, putting `1` = like and if never follow any page putting `0`, mean never know how lovely the member are."
   ]
  },
  {
   "cell_type": "code",
   "execution_count": 2,
   "metadata": {},
   "outputs": [
    {
     "data": {
      "text/plain": [
       "201229"
      ]
     },
     "execution_count": 2,
     "metadata": {},
     "output_type": "execute_result"
    }
   ],
   "source": [
    "rating_list = pd.read_csv('follower.csv')\n",
    "del rating_list['Unnamed: 0']\n",
    "rating_count = len(rating_list)\n",
    "rating_count"
   ]
  },
  {
   "cell_type": "code",
   "execution_count": 3,
   "metadata": {},
   "outputs": [
    {
     "data": {
      "text/plain": [
       "141101"
      ]
     },
     "execution_count": 3,
     "metadata": {},
     "output_type": "execute_result"
    }
   ],
   "source": [
    "distinct_rating = rating_list.drop_duplicates().copy()\n",
    "distinct_rating_count = len(distinct_rating)\n",
    "distinct_rating_count"
   ]
  },
  {
   "cell_type": "code",
   "execution_count": 4,
   "metadata": {},
   "outputs": [
    {
     "data": {
      "text/html": [
       "<div>\n",
       "<style>\n",
       "    .dataframe thead tr:only-child th {\n",
       "        text-align: right;\n",
       "    }\n",
       "\n",
       "    .dataframe thead th {\n",
       "        text-align: left;\n",
       "    }\n",
       "\n",
       "    .dataframe tbody tr th {\n",
       "        vertical-align: top;\n",
       "    }\n",
       "</style>\n",
       "<table border=\"1\" class=\"dataframe\">\n",
       "  <thead>\n",
       "    <tr style=\"text-align: right;\">\n",
       "      <th></th>\n",
       "      <th>follower_count</th>\n",
       "    </tr>\n",
       "    <tr>\n",
       "      <th>member</th>\n",
       "      <th></th>\n",
       "    </tr>\n",
       "  </thead>\n",
       "  <tbody>\n",
       "    <tr>\n",
       "      <th>Izurina</th>\n",
       "      <td>28088</td>\n",
       "    </tr>\n",
       "    <tr>\n",
       "      <th>Cherprang</th>\n",
       "      <td>23799</td>\n",
       "    </tr>\n",
       "    <tr>\n",
       "      <th>Pun</th>\n",
       "      <td>14825</td>\n",
       "    </tr>\n",
       "    <tr>\n",
       "      <th>Music</th>\n",
       "      <td>11464</td>\n",
       "    </tr>\n",
       "    <tr>\n",
       "      <th>Jan</th>\n",
       "      <td>7690</td>\n",
       "    </tr>\n",
       "    <tr>\n",
       "      <th>Kaew</th>\n",
       "      <td>7076</td>\n",
       "    </tr>\n",
       "    <tr>\n",
       "      <th>Orn</th>\n",
       "      <td>6450</td>\n",
       "    </tr>\n",
       "    <tr>\n",
       "      <th>Jennis</th>\n",
       "      <td>5898</td>\n",
       "    </tr>\n",
       "    <tr>\n",
       "      <th>Mobile</th>\n",
       "      <td>5362</td>\n",
       "    </tr>\n",
       "    <tr>\n",
       "      <th>Tarwaan</th>\n",
       "      <td>4808</td>\n",
       "    </tr>\n",
       "  </tbody>\n",
       "</table>\n",
       "</div>"
      ],
      "text/plain": [
       "           follower_count\n",
       "member                   \n",
       "Izurina             28088\n",
       "Cherprang           23799\n",
       "Pun                 14825\n",
       "Music               11464\n",
       "Jan                  7690\n",
       "Kaew                 7076\n",
       "Orn                  6450\n",
       "Jennis               5898\n",
       "Mobile               5362\n",
       "Tarwaan              4808"
      ]
     },
     "execution_count": 4,
     "metadata": {},
     "output_type": "execute_result"
    }
   ],
   "source": [
    "most_popular = distinct_rating.groupby('member').count().sort_values('follwer_id', ascending=False)\n",
    "most_popular.rename(columns={'follwer_id': 'follower_count'}, inplace=True)\n",
    "most_popular[:10]"
   ]
  },
  {
   "cell_type": "code",
   "execution_count": 5,
   "metadata": {},
   "outputs": [
    {
     "data": {
      "text/html": [
       "\n",
       "<div class=\"bk-root\">\n",
       "    <div class=\"bk-plotdiv\" id=\"409ad29d-b071-4ffe-8184-0c523026cdfc\"></div>\n",
       "</div>"
      ]
     },
     "metadata": {},
     "output_type": "display_data"
    },
    {
     "data": {
      "application/javascript": [
       "(function(root) {\n",
       "  function embed_document(root) {\n",
       "    var docs_json = {\"bffbd3f6-66e4-4c0c-bd22-8ab511159602\":{\"roots\":{\"references\":[{\"attributes\":{\"source\":{\"id\":\"a809fcec-4ef9-450b-8c96-c46dd7cebd1d\",\"type\":\"ColumnDataSource\"}},\"id\":\"6690d814-ac6c-4b97-8276-bc1490755bae\",\"type\":\"CDSView\"},{\"attributes\":{\"callback\":null,\"factors\":[\"Izurina\",\"Cherprang\",\"Pun\",\"Music\",\"Jan\",\"Kaew\",\"Orn\",\"Jennis\",\"Mobile\",\"Tarwaan\",\"Noey\",\"Kaimook\",\"Namneung\",\"Mind\",\"Korn\",\"Kate\",\"Namsai\",\"Jaa\",\"Jane\",\"Piam\",\"Can\",\"Miori\",\"Satchan\",\"Maysa\",\"Nink\",\"Jib\"]},\"id\":\"7e9cd6a8-c885-4b8b-9729-7846357639b8\",\"type\":\"FactorRange\"},{\"attributes\":{\"callback\":null,\"start\":0},\"id\":\"a5ae2a0d-edb8-454a-a599-8ac3abc89386\",\"type\":\"DataRange1d\"},{\"attributes\":{\"plot\":null,\"text\":\"\"},\"id\":\"e256acc2-2e84-4566-aec7-e6c333ca2402\",\"type\":\"Title\"},{\"attributes\":{\"formatter\":{\"id\":\"866004dd-b803-4f95-83f5-9447571afbfe\",\"type\":\"CategoricalTickFormatter\"},\"major_label_orientation\":1.5707963267948966,\"plot\":{\"id\":\"7cc3c28c-dd51-4ab4-af6e-5547d3f5de51\",\"subtype\":\"Figure\",\"type\":\"Plot\"},\"ticker\":{\"id\":\"800f46c5-0242-48eb-b806-6ff3a3ade963\",\"type\":\"CategoricalTicker\"}},\"id\":\"fb412b7e-d65a-40a2-a14a-4f2da9d9ebd4\",\"type\":\"CategoricalAxis\"},{\"attributes\":{},\"id\":\"800f46c5-0242-48eb-b806-6ff3a3ade963\",\"type\":\"CategoricalTicker\"},{\"attributes\":{},\"id\":\"b6102cbb-0c2d-4451-aa86-a49bd1001308\",\"type\":\"HelpTool\"},{\"attributes\":{\"plot\":{\"id\":\"7cc3c28c-dd51-4ab4-af6e-5547d3f5de51\",\"subtype\":\"Figure\",\"type\":\"Plot\"},\"ticker\":{\"id\":\"800f46c5-0242-48eb-b806-6ff3a3ade963\",\"type\":\"CategoricalTicker\"}},\"id\":\"90182320-c127-4eb1-9e2a-f05e37f8d263\",\"type\":\"Grid\"},{\"attributes\":{\"fill_alpha\":{\"value\":0.1},\"fill_color\":{\"value\":\"#1f77b4\"},\"line_alpha\":{\"value\":0.1},\"line_color\":{\"value\":\"#1f77b4\"},\"top\":{\"field\":\"top\"},\"width\":{\"value\":0.6},\"x\":{\"field\":\"x\"}},\"id\":\"2186926e-2d69-49e3-9df9-f0a469117fb5\",\"type\":\"VBar\"},{\"attributes\":{},\"id\":\"866004dd-b803-4f95-83f5-9447571afbfe\",\"type\":\"CategoricalTickFormatter\"},{\"attributes\":{},\"id\":\"93a9af2b-1c62-4ea4-b8fe-141f1eecd4bc\",\"type\":\"BasicTicker\"},{\"attributes\":{\"callback\":null,\"column_names\":[\"x\",\"top\"],\"data\":{\"top\":[28088,23799,14825,11464,7690,7076,6450,5898,5362,4808,4717,3508,3196,2872,2462,2121,1931,1569,762,747,524,368,361,197,170,136],\"x\":[\"Izurina\",\"Cherprang\",\"Pun\",\"Music\",\"Jan\",\"Kaew\",\"Orn\",\"Jennis\",\"Mobile\",\"Tarwaan\",\"Noey\",\"Kaimook\",\"Namneung\",\"Mind\",\"Korn\",\"Kate\",\"Namsai\",\"Jaa\",\"Jane\",\"Piam\",\"Can\",\"Miori\",\"Satchan\",\"Maysa\",\"Nink\",\"Jib\"]}},\"id\":\"a809fcec-4ef9-450b-8c96-c46dd7cebd1d\",\"type\":\"ColumnDataSource\"},{\"attributes\":{\"data_source\":{\"id\":\"a809fcec-4ef9-450b-8c96-c46dd7cebd1d\",\"type\":\"ColumnDataSource\"},\"glyph\":{\"id\":\"39a14ec3-6a4b-438a-a4a6-1a66d64b1f02\",\"type\":\"VBar\"},\"hover_glyph\":null,\"muted_glyph\":null,\"nonselection_glyph\":{\"id\":\"2186926e-2d69-49e3-9df9-f0a469117fb5\",\"type\":\"VBar\"},\"selection_glyph\":null,\"view\":{\"id\":\"6690d814-ac6c-4b97-8276-bc1490755bae\",\"type\":\"CDSView\"}},\"id\":\"8a75c87f-7951-47ea-b2f8-428503049b38\",\"type\":\"GlyphRenderer\"},{\"attributes\":{},\"id\":\"14b2f5b3-db32-4b41-a0a2-58d588ae1b7b\",\"type\":\"BasicTickFormatter\"},{\"attributes\":{\"fill_color\":{\"value\":\"#1f77b4\"},\"line_color\":{\"value\":\"#1f77b4\"},\"top\":{\"field\":\"top\"},\"width\":{\"value\":0.6},\"x\":{\"field\":\"x\"}},\"id\":\"39a14ec3-6a4b-438a-a4a6-1a66d64b1f02\",\"type\":\"VBar\"},{\"attributes\":{},\"id\":\"35540895-5eb8-4bc4-aa29-d8459eb8a03a\",\"type\":\"PanTool\"},{\"attributes\":{\"bottom_units\":\"screen\",\"fill_alpha\":{\"value\":0.5},\"fill_color\":{\"value\":\"lightgrey\"},\"left_units\":\"screen\",\"level\":\"overlay\",\"line_alpha\":{\"value\":1.0},\"line_color\":{\"value\":\"black\"},\"line_dash\":[4,4],\"line_width\":{\"value\":2},\"plot\":null,\"render_mode\":\"css\",\"right_units\":\"screen\",\"top_units\":\"screen\"},\"id\":\"c5d4d568-887a-443b-a791-6eec2d9a6c52\",\"type\":\"BoxAnnotation\"},{\"attributes\":{\"below\":[{\"id\":\"fb412b7e-d65a-40a2-a14a-4f2da9d9ebd4\",\"type\":\"CategoricalAxis\"}],\"left\":[{\"id\":\"3916e14d-6ffd-4240-ac7c-2fe990eb1f50\",\"type\":\"LinearAxis\"}],\"plot_height\":400,\"plot_width\":800,\"renderers\":[{\"id\":\"fb412b7e-d65a-40a2-a14a-4f2da9d9ebd4\",\"type\":\"CategoricalAxis\"},{\"id\":\"90182320-c127-4eb1-9e2a-f05e37f8d263\",\"type\":\"Grid\"},{\"id\":\"3916e14d-6ffd-4240-ac7c-2fe990eb1f50\",\"type\":\"LinearAxis\"},{\"id\":\"1b3d84b2-c387-4524-9361-b02b869f6728\",\"type\":\"Grid\"},{\"id\":\"c5d4d568-887a-443b-a791-6eec2d9a6c52\",\"type\":\"BoxAnnotation\"},{\"id\":\"8a75c87f-7951-47ea-b2f8-428503049b38\",\"type\":\"GlyphRenderer\"}],\"title\":{\"id\":\"e256acc2-2e84-4566-aec7-e6c333ca2402\",\"type\":\"Title\"},\"toolbar\":{\"id\":\"9b4e415e-07e6-4d35-939f-d6b263194562\",\"type\":\"Toolbar\"},\"x_range\":{\"id\":\"7e9cd6a8-c885-4b8b-9729-7846357639b8\",\"type\":\"FactorRange\"},\"x_scale\":{\"id\":\"04c45bad-011e-4a02-be18-715c96361e38\",\"type\":\"CategoricalScale\"},\"y_range\":{\"id\":\"a5ae2a0d-edb8-454a-a599-8ac3abc89386\",\"type\":\"DataRange1d\"},\"y_scale\":{\"id\":\"439d20c0-af44-4d03-a096-22d827bdcb54\",\"type\":\"LinearScale\"}},\"id\":\"7cc3c28c-dd51-4ab4-af6e-5547d3f5de51\",\"subtype\":\"Figure\",\"type\":\"Plot\"},{\"attributes\":{},\"id\":\"952652ad-5dc0-4a72-81f4-45484e629b39\",\"type\":\"WheelZoomTool\"},{\"attributes\":{\"active_drag\":\"auto\",\"active_inspect\":\"auto\",\"active_scroll\":\"auto\",\"active_tap\":\"auto\",\"tools\":[{\"id\":\"35540895-5eb8-4bc4-aa29-d8459eb8a03a\",\"type\":\"PanTool\"},{\"id\":\"952652ad-5dc0-4a72-81f4-45484e629b39\",\"type\":\"WheelZoomTool\"},{\"id\":\"bfb96d2e-4fd9-435a-84e7-f61ff63c4c42\",\"type\":\"BoxZoomTool\"},{\"id\":\"cd4e0a2b-f0db-43eb-b225-89092cdc80a7\",\"type\":\"SaveTool\"},{\"id\":\"076e873e-e9cd-42ff-acf8-4eb5aae5877a\",\"type\":\"ResetTool\"},{\"id\":\"b6102cbb-0c2d-4451-aa86-a49bd1001308\",\"type\":\"HelpTool\"}]},\"id\":\"9b4e415e-07e6-4d35-939f-d6b263194562\",\"type\":\"Toolbar\"},{\"attributes\":{\"overlay\":{\"id\":\"c5d4d568-887a-443b-a791-6eec2d9a6c52\",\"type\":\"BoxAnnotation\"}},\"id\":\"bfb96d2e-4fd9-435a-84e7-f61ff63c4c42\",\"type\":\"BoxZoomTool\"},{\"attributes\":{\"dimension\":1,\"plot\":{\"id\":\"7cc3c28c-dd51-4ab4-af6e-5547d3f5de51\",\"subtype\":\"Figure\",\"type\":\"Plot\"},\"ticker\":{\"id\":\"93a9af2b-1c62-4ea4-b8fe-141f1eecd4bc\",\"type\":\"BasicTicker\"}},\"id\":\"1b3d84b2-c387-4524-9361-b02b869f6728\",\"type\":\"Grid\"},{\"attributes\":{},\"id\":\"cd4e0a2b-f0db-43eb-b225-89092cdc80a7\",\"type\":\"SaveTool\"},{\"attributes\":{},\"id\":\"439d20c0-af44-4d03-a096-22d827bdcb54\",\"type\":\"LinearScale\"},{\"attributes\":{},\"id\":\"04c45bad-011e-4a02-be18-715c96361e38\",\"type\":\"CategoricalScale\"},{\"attributes\":{\"formatter\":{\"id\":\"14b2f5b3-db32-4b41-a0a2-58d588ae1b7b\",\"type\":\"BasicTickFormatter\"},\"plot\":{\"id\":\"7cc3c28c-dd51-4ab4-af6e-5547d3f5de51\",\"subtype\":\"Figure\",\"type\":\"Plot\"},\"ticker\":{\"id\":\"93a9af2b-1c62-4ea4-b8fe-141f1eecd4bc\",\"type\":\"BasicTicker\"}},\"id\":\"3916e14d-6ffd-4240-ac7c-2fe990eb1f50\",\"type\":\"LinearAxis\"},{\"attributes\":{},\"id\":\"076e873e-e9cd-42ff-acf8-4eb5aae5877a\",\"type\":\"ResetTool\"}],\"root_ids\":[\"7cc3c28c-dd51-4ab4-af6e-5547d3f5de51\"]},\"title\":\"Bokeh Application\",\"version\":\"0.12.10\"}};\n",
       "    var render_items = [{\"docid\":\"bffbd3f6-66e4-4c0c-bd22-8ab511159602\",\"elementid\":\"409ad29d-b071-4ffe-8184-0c523026cdfc\",\"modelid\":\"7cc3c28c-dd51-4ab4-af6e-5547d3f5de51\"}];\n",
       "\n",
       "    root.Bokeh.embed.embed_items(docs_json, render_items);\n",
       "  }\n",
       "\n",
       "  if (root.Bokeh !== undefined) {\n",
       "    embed_document(root);\n",
       "  } else {\n",
       "    var attempts = 0;\n",
       "    var timer = setInterval(function(root) {\n",
       "      if (root.Bokeh !== undefined) {\n",
       "        embed_document(root);\n",
       "        clearInterval(timer);\n",
       "      }\n",
       "      attempts++;\n",
       "      if (attempts > 100) {\n",
       "        console.log(\"Bokeh: ERROR: Unable to embed document because BokehJS library is missing\")\n",
       "        clearInterval(timer);\n",
       "      }\n",
       "    }, 10, root)\n",
       "  }\n",
       "})(window);"
      ],
      "application/vnd.bokehjs_exec.v0+json": ""
     },
     "metadata": {
      "application/vnd.bokehjs_exec.v0+json": {
       "id": "7cc3c28c-dd51-4ab4-af6e-5547d3f5de51"
      }
     },
     "output_type": "display_data"
    }
   ],
   "source": [
    "import math\n",
    "from bokeh.plotting import show \n",
    "\n",
    "p = figure(plot_width=800, plot_height=400, x_range=list(most_popular.index))\n",
    "p.vbar(top=most_popular['follower_count'], x=list(most_popular.index), width=0.6)\n",
    "\n",
    "p.y_range.start = 0\n",
    "p.xaxis.major_label_orientation = math.pi/2\n",
    "\n",
    "show(p)"
   ]
  },
  {
   "cell_type": "markdown",
   "metadata": {},
   "source": [
    "## Feel something strange?\n",
    "\n",
    "As we know, Izurina is not very popular like Cherprang or Pun. The data is grabed from twitter which is not very popular in TH. Only few fan follow thier fanpage on twitter, but Izurina convert her original AKB48 page to BNK48 and many japanese fan still follow her."
   ]
  },
  {
   "cell_type": "code",
   "execution_count": 6,
   "metadata": {
    "collapsed": true
   },
   "outputs": [],
   "source": [
    "distinct_rating['count'] = 1\n",
    "\n",
    "rating_matrix = distinct_rating.pivot(index='follwer_id', columns='member', values='count')\n",
    "rating_matrix.fillna(0, inplace=True)"
   ]
  },
  {
   "cell_type": "code",
   "execution_count": 7,
   "metadata": {},
   "outputs": [
    {
     "data": {
      "text/plain": [
       "2.1597863188991444"
      ]
     },
     "execution_count": 7,
     "metadata": {},
     "output_type": "execute_result"
    }
   ],
   "source": [
    "if 'oshi_count' in rating_matrix:\n",
    "    del rating_matrix['oshi_count']\n",
    "rating_matrix['oshi_count'] = rating_matrix.sum(axis=1)\n",
    "rating_matrix['oshi_count'].mean()"
   ]
  },
  {
   "cell_type": "code",
   "execution_count": 8,
   "metadata": {
    "collapsed": true
   },
   "outputs": [],
   "source": [
    "def tan_oshi_ratio(rating_matrix, member):\n",
    "    oshies = rating_matrix[rating_matrix[member] == 1]\n",
    "    total_oshi = oshies[member].count()\n",
    "    tan_oshi = len(oshies[oshies['oshi_count'] == 1])\n",
    "    return tan_oshi / total_oshi"
   ]
  },
  {
   "cell_type": "code",
   "execution_count": 9,
   "metadata": {},
   "outputs": [],
   "source": [
    "tan_oshi_ratios = [tan_oshi_ratio(rating_matrix, member) for member in rating_matrix.columns]\n",
    "del tan_oshi_ratios[len(tan_oshi_ratios) - 1]"
   ]
  },
  {
   "cell_type": "code",
   "execution_count": 10,
   "metadata": {},
   "outputs": [
    {
     "data": {
      "text/html": [
       "\n",
       "<div class=\"bk-root\">\n",
       "    <div class=\"bk-plotdiv\" id=\"adbe5e8c-48c5-47fa-b31a-626a1b561648\"></div>\n",
       "</div>"
      ]
     },
     "metadata": {},
     "output_type": "display_data"
    },
    {
     "data": {
      "application/javascript": [
       "(function(root) {\n",
       "  function embed_document(root) {\n",
       "    var docs_json = {\"4830a0ac-217b-4dee-8310-b4c6927be3e7\":{\"roots\":{\"references\":[{\"attributes\":{\"callback\":null,\"start\":0.0},\"id\":\"1846b469-2152-40f5-a4e7-31f54b1df63c\",\"type\":\"DataRange1d\"},{\"attributes\":{},\"id\":\"0264b9f9-9b14-4b95-8af7-dc2120999140\",\"type\":\"LinearScale\"},{\"attributes\":{\"fill_alpha\":{\"value\":0.1},\"fill_color\":{\"value\":\"#1f77b4\"},\"line_alpha\":{\"value\":0.1},\"line_color\":{\"value\":\"#1f77b4\"},\"top\":{\"field\":\"top\"},\"width\":{\"value\":0.9},\"x\":{\"field\":\"x\"}},\"id\":\"367e71b6-b4a6-4bb1-b1c5-6881d2de6442\",\"type\":\"VBar\"},{\"attributes\":{\"formatter\":{\"id\":\"ebca7ea0-5e4f-42ae-812c-aa430c32596a\",\"type\":\"BasicTickFormatter\"},\"plot\":{\"id\":\"3b46b21c-54aa-4fb8-8555-b7dc91f47844\",\"subtype\":\"Figure\",\"type\":\"Plot\"},\"ticker\":{\"id\":\"b47c8ced-10ed-401b-9b56-af5531c6f2b8\",\"type\":\"BasicTicker\"}},\"id\":\"55ec3b54-0a37-4eb8-a68b-80e2fd39045b\",\"type\":\"LinearAxis\"},{\"attributes\":{\"formatter\":{\"id\":\"0a631e64-4ccf-4e92-98ea-e76f73280788\",\"type\":\"CategoricalTickFormatter\"},\"major_label_orientation\":1.5707963267948966,\"plot\":{\"id\":\"3b46b21c-54aa-4fb8-8555-b7dc91f47844\",\"subtype\":\"Figure\",\"type\":\"Plot\"},\"ticker\":{\"id\":\"87db8f27-2a8a-45d5-9d3d-f7b0d4f08340\",\"type\":\"CategoricalTicker\"}},\"id\":\"77883137-e5d3-4252-a67c-336942035b55\",\"type\":\"CategoricalAxis\"},{\"attributes\":{\"dimension\":1,\"plot\":{\"id\":\"3b46b21c-54aa-4fb8-8555-b7dc91f47844\",\"subtype\":\"Figure\",\"type\":\"Plot\"},\"ticker\":{\"id\":\"b47c8ced-10ed-401b-9b56-af5531c6f2b8\",\"type\":\"BasicTicker\"}},\"id\":\"dd01029b-70d6-42eb-a6e1-0488649dde47\",\"type\":\"Grid\"},{\"attributes\":{},\"id\":\"87db8f27-2a8a-45d5-9d3d-f7b0d4f08340\",\"type\":\"CategoricalTicker\"},{\"attributes\":{},\"id\":\"ebca7ea0-5e4f-42ae-812c-aa430c32596a\",\"type\":\"BasicTickFormatter\"},{\"attributes\":{\"grid_line_color\":{\"value\":null},\"plot\":{\"id\":\"3b46b21c-54aa-4fb8-8555-b7dc91f47844\",\"subtype\":\"Figure\",\"type\":\"Plot\"},\"ticker\":{\"id\":\"87db8f27-2a8a-45d5-9d3d-f7b0d4f08340\",\"type\":\"CategoricalTicker\"}},\"id\":\"b3866af3-6190-4e5c-b16f-9270d2c005bd\",\"type\":\"Grid\"},{\"attributes\":{\"callback\":null,\"column_names\":[\"x\",\"y\"],\"data\":{\"x\":[\"Can\",\"Cherprang\",\"Izurina\",\"Jaa\",\"Jan\",\"Jane\",\"Jennis\",\"Jib\",\"Kaew\",\"Kaimook\",\"Kate\",\"Korn\",\"Maysa\",\"Mind\",\"Miori\",\"Mobile\",\"Music\",\"Namneung\",\"Namsai\",\"Nink\",\"Noey\",\"Orn\",\"Piam\",\"Pun\",\"Satchan\",\"Tarwaan\"],\"y\":[0.17428127337034247,0.17428127337034247,0.17428127337034247,0.17428127337034247,0.17428127337034247,0.17428127337034247,0.17428127337034247,0.17428127337034247,0.17428127337034247,0.17428127337034247,0.17428127337034247,0.17428127337034247,0.17428127337034247,0.17428127337034247,0.17428127337034247,0.17428127337034247,0.17428127337034247,0.17428127337034247,0.17428127337034247,0.17428127337034247,0.17428127337034247,0.17428127337034247,0.17428127337034247,0.17428127337034247,0.17428127337034247,0.17428127337034247]}},\"id\":\"4d4c6bc0-a392-4989-b033-2d5b2a08e5b2\",\"type\":\"ColumnDataSource\"},{\"attributes\":{\"bottom_units\":\"screen\",\"fill_alpha\":{\"value\":0.5},\"fill_color\":{\"value\":\"lightgrey\"},\"left_units\":\"screen\",\"level\":\"overlay\",\"line_alpha\":{\"value\":1.0},\"line_color\":{\"value\":\"black\"},\"line_dash\":[4,4],\"line_width\":{\"value\":2},\"plot\":null,\"render_mode\":\"css\",\"right_units\":\"screen\",\"top_units\":\"screen\"},\"id\":\"bf611208-4847-415d-9498-97cc4e25a9bf\",\"type\":\"BoxAnnotation\"},{\"attributes\":{},\"id\":\"134051bb-b3c8-438b-b5f3-88c913972e8f\",\"type\":\"PanTool\"},{\"attributes\":{\"label\":{\"value\":\"Tan-Oshi per Total-Oshi\"},\"renderers\":[{\"id\":\"62ccae1a-9022-4085-8f1b-5d31f6ccc15b\",\"type\":\"GlyphRenderer\"}]},\"id\":\"ccc5903d-9bd1-493e-a342-99ac2efc8be7\",\"type\":\"LegendItem\"},{\"attributes\":{},\"id\":\"653c7ac6-9863-496a-9504-28526abfeb39\",\"type\":\"WheelZoomTool\"},{\"attributes\":{\"overlay\":{\"id\":\"bf611208-4847-415d-9498-97cc4e25a9bf\",\"type\":\"BoxAnnotation\"}},\"id\":\"929e6736-1ebb-4b53-9269-a9cc986b4f77\",\"type\":\"BoxZoomTool\"},{\"attributes\":{},\"id\":\"5abca195-2814-42e4-af87-910f35f79017\",\"type\":\"SaveTool\"},{\"attributes\":{},\"id\":\"79acc77a-8726-4b48-ad9e-abbd368de8e8\",\"type\":\"ResetTool\"},{\"attributes\":{},\"id\":\"c81577a2-37a7-4bc6-b35f-c8dc62baa219\",\"type\":\"HelpTool\"},{\"attributes\":{},\"id\":\"0a631e64-4ccf-4e92-98ea-e76f73280788\",\"type\":\"CategoricalTickFormatter\"},{\"attributes\":{\"source\":{\"id\":\"69aee6f6-3a43-4b2c-a93d-2d5d7745b1c2\",\"type\":\"ColumnDataSource\"}},\"id\":\"1fc9aeb9-d6ce-4ab8-841a-f63b1bf45426\",\"type\":\"CDSView\"},{\"attributes\":{\"label\":{\"value\":\"Average\"},\"renderers\":[{\"id\":\"dfdc0ce1-5642-4ddb-8ec4-36d89a873ae5\",\"type\":\"GlyphRenderer\"}]},\"id\":\"0977d98c-f74c-436e-83b8-033f46c0fa6b\",\"type\":\"LegendItem\"},{\"attributes\":{\"line_color\":{\"value\":\"#440154\"},\"line_dash\":[2,4,6,4],\"line_width\":{\"value\":2},\"x\":{\"field\":\"x\"},\"y\":{\"field\":\"y\"}},\"id\":\"5c35e149-6c75-4123-80d9-05b8a8ef1613\",\"type\":\"Line\"},{\"attributes\":{\"source\":{\"id\":\"4d4c6bc0-a392-4989-b033-2d5b2a08e5b2\",\"type\":\"ColumnDataSource\"}},\"id\":\"a4b01eb4-8541-4123-95d0-d826c4bac0b6\",\"type\":\"CDSView\"},{\"attributes\":{\"line_alpha\":{\"value\":0.1},\"line_color\":{\"value\":\"#1f77b4\"},\"line_dash\":[2,4,6,4],\"line_width\":{\"value\":2},\"x\":{\"field\":\"x\"},\"y\":{\"field\":\"y\"}},\"id\":\"0944ac4b-f8df-40f6-87eb-cf3d6c9782de\",\"type\":\"Line\"},{\"attributes\":{\"data_source\":{\"id\":\"4d4c6bc0-a392-4989-b033-2d5b2a08e5b2\",\"type\":\"ColumnDataSource\"},\"glyph\":{\"id\":\"5c35e149-6c75-4123-80d9-05b8a8ef1613\",\"type\":\"Line\"},\"hover_glyph\":null,\"muted_glyph\":null,\"nonselection_glyph\":{\"id\":\"0944ac4b-f8df-40f6-87eb-cf3d6c9782de\",\"type\":\"Line\"},\"selection_glyph\":null,\"view\":{\"id\":\"a4b01eb4-8541-4123-95d0-d826c4bac0b6\",\"type\":\"CDSView\"}},\"id\":\"dfdc0ce1-5642-4ddb-8ec4-36d89a873ae5\",\"type\":\"GlyphRenderer\"},{\"attributes\":{\"items\":[{\"id\":\"ccc5903d-9bd1-493e-a342-99ac2efc8be7\",\"type\":\"LegendItem\"},{\"id\":\"0977d98c-f74c-436e-83b8-033f46c0fa6b\",\"type\":\"LegendItem\"}],\"plot\":{\"id\":\"3b46b21c-54aa-4fb8-8555-b7dc91f47844\",\"subtype\":\"Figure\",\"type\":\"Plot\"}},\"id\":\"f0efa3f9-6bb4-4967-9462-c3246cbe1aaf\",\"type\":\"Legend\"},{\"attributes\":{},\"id\":\"b47c8ced-10ed-401b-9b56-af5531c6f2b8\",\"type\":\"BasicTicker\"},{\"attributes\":{\"callback\":null,\"column_names\":[\"x\",\"top\",\"fill_color\",\"line_color\"],\"data\":{\"fill_color\":[\"#FDE724\",\"#FDE724\",\"#35B778\",\"#FDE724\",\"#FDE724\",\"#FDE724\",\"#FDE724\",\"#FDE724\",\"#FDE724\",\"#FDE724\",\"#FDE724\",\"#FDE724\",\"#FDE724\",\"#FDE724\",\"#FDE724\",\"#FDE724\",\"#FDE724\",\"#FDE724\",\"#FDE724\",\"#FDE724\",\"#FDE724\",\"#FDE724\",\"#FDE724\",\"#FDE724\",\"#FDE724\",\"#FDE724\"],\"line_color\":[\"#FDE724\",\"#FDE724\",\"#35B778\",\"#FDE724\",\"#FDE724\",\"#FDE724\",\"#FDE724\",\"#FDE724\",\"#FDE724\",\"#FDE724\",\"#FDE724\",\"#FDE724\",\"#FDE724\",\"#FDE724\",\"#FDE724\",\"#FDE724\",\"#FDE724\",\"#FDE724\",\"#FDE724\",\"#FDE724\",\"#FDE724\",\"#FDE724\",\"#FDE724\",\"#FDE724\",\"#FDE724\",\"#FDE724\"],\"top\":[0.18129770992366412,0.34186310349174337,0.8298205639418968,0.06819630337794774,0.1318595578673602,0.13385826771653545,0.3972533062054934,0.10294117647058823,0.10245901639344263,0.08893956670467502,0.033946251768033946,0.053208773354995936,0.18781725888324874,0.04178272980501393,0.17119565217391305,0.2558746736292428,0.11610258199581298,0.06946182728410513,0.06421543241843604,0.1411764705882353,0.15751536993852025,0.11705426356589148,0.26104417670682734,0.2333220910623946,0.18005540166204986,0.06905158069883527],\"x\":[\"Can\",\"Cherprang\",\"Izurina\",\"Jaa\",\"Jan\",\"Jane\",\"Jennis\",\"Jib\",\"Kaew\",\"Kaimook\",\"Kate\",\"Korn\",\"Maysa\",\"Mind\",\"Miori\",\"Mobile\",\"Music\",\"Namneung\",\"Namsai\",\"Nink\",\"Noey\",\"Orn\",\"Piam\",\"Pun\",\"Satchan\",\"Tarwaan\"]}},\"id\":\"69aee6f6-3a43-4b2c-a93d-2d5d7745b1c2\",\"type\":\"ColumnDataSource\"},{\"attributes\":{\"data_source\":{\"id\":\"69aee6f6-3a43-4b2c-a93d-2d5d7745b1c2\",\"type\":\"ColumnDataSource\"},\"glyph\":{\"id\":\"c34bce39-ec09-420c-bd9e-1737da0d0192\",\"type\":\"VBar\"},\"hover_glyph\":null,\"muted_glyph\":null,\"nonselection_glyph\":{\"id\":\"367e71b6-b4a6-4bb1-b1c5-6881d2de6442\",\"type\":\"VBar\"},\"selection_glyph\":null,\"view\":{\"id\":\"1fc9aeb9-d6ce-4ab8-841a-f63b1bf45426\",\"type\":\"CDSView\"}},\"id\":\"62ccae1a-9022-4085-8f1b-5d31f6ccc15b\",\"type\":\"GlyphRenderer\"},{\"attributes\":{\"below\":[{\"id\":\"77883137-e5d3-4252-a67c-336942035b55\",\"type\":\"CategoricalAxis\"}],\"left\":[{\"id\":\"55ec3b54-0a37-4eb8-a68b-80e2fd39045b\",\"type\":\"LinearAxis\"}],\"plot_height\":450,\"plot_width\":800,\"renderers\":[{\"id\":\"77883137-e5d3-4252-a67c-336942035b55\",\"type\":\"CategoricalAxis\"},{\"id\":\"b3866af3-6190-4e5c-b16f-9270d2c005bd\",\"type\":\"Grid\"},{\"id\":\"55ec3b54-0a37-4eb8-a68b-80e2fd39045b\",\"type\":\"LinearAxis\"},{\"id\":\"dd01029b-70d6-42eb-a6e1-0488649dde47\",\"type\":\"Grid\"},{\"id\":\"bf611208-4847-415d-9498-97cc4e25a9bf\",\"type\":\"BoxAnnotation\"},{\"id\":\"f0efa3f9-6bb4-4967-9462-c3246cbe1aaf\",\"type\":\"Legend\"},{\"id\":\"62ccae1a-9022-4085-8f1b-5d31f6ccc15b\",\"type\":\"GlyphRenderer\"},{\"id\":\"dfdc0ce1-5642-4ddb-8ec4-36d89a873ae5\",\"type\":\"GlyphRenderer\"}],\"title\":{\"id\":\"cf8fdeb2-cf05-4465-b56c-95725e6cb3c3\",\"type\":\"Title\"},\"toolbar\":{\"id\":\"3d02ac54-efaf-4138-bfe4-6d0365fc6584\",\"type\":\"Toolbar\"},\"x_range\":{\"id\":\"a188e0e1-23e6-48fe-af5c-dc67b69ff591\",\"type\":\"FactorRange\"},\"x_scale\":{\"id\":\"ffe94c7e-c060-40d3-8b0e-d311ddb5f9b5\",\"type\":\"CategoricalScale\"},\"y_range\":{\"id\":\"1846b469-2152-40f5-a4e7-31f54b1df63c\",\"type\":\"DataRange1d\"},\"y_scale\":{\"id\":\"0264b9f9-9b14-4b95-8af7-dc2120999140\",\"type\":\"LinearScale\"}},\"id\":\"3b46b21c-54aa-4fb8-8555-b7dc91f47844\",\"subtype\":\"Figure\",\"type\":\"Plot\"},{\"attributes\":{\"plot\":null,\"text\":\"Tan-Oshi Ratio\"},\"id\":\"cf8fdeb2-cf05-4465-b56c-95725e6cb3c3\",\"type\":\"Title\"},{\"attributes\":{\"callback\":null,\"factors\":[\"Can\",\"Cherprang\",\"Izurina\",\"Jaa\",\"Jan\",\"Jane\",\"Jennis\",\"Jib\",\"Kaew\",\"Kaimook\",\"Kate\",\"Korn\",\"Maysa\",\"Mind\",\"Miori\",\"Mobile\",\"Music\",\"Namneung\",\"Namsai\",\"Nink\",\"Noey\",\"Orn\",\"Piam\",\"Pun\",\"Satchan\",\"Tarwaan\"]},\"id\":\"a188e0e1-23e6-48fe-af5c-dc67b69ff591\",\"type\":\"FactorRange\"},{\"attributes\":{\"active_drag\":\"auto\",\"active_inspect\":\"auto\",\"active_scroll\":\"auto\",\"active_tap\":\"auto\",\"tools\":[{\"id\":\"134051bb-b3c8-438b-b5f3-88c913972e8f\",\"type\":\"PanTool\"},{\"id\":\"653c7ac6-9863-496a-9504-28526abfeb39\",\"type\":\"WheelZoomTool\"},{\"id\":\"929e6736-1ebb-4b53-9269-a9cc986b4f77\",\"type\":\"BoxZoomTool\"},{\"id\":\"5abca195-2814-42e4-af87-910f35f79017\",\"type\":\"SaveTool\"},{\"id\":\"79acc77a-8726-4b48-ad9e-abbd368de8e8\",\"type\":\"ResetTool\"},{\"id\":\"c81577a2-37a7-4bc6-b35f-c8dc62baa219\",\"type\":\"HelpTool\"}]},\"id\":\"3d02ac54-efaf-4138-bfe4-6d0365fc6584\",\"type\":\"Toolbar\"},{\"attributes\":{\"fill_color\":{\"field\":\"fill_color\"},\"line_color\":{\"field\":\"line_color\"},\"top\":{\"field\":\"top\"},\"width\":{\"value\":0.9},\"x\":{\"field\":\"x\"}},\"id\":\"c34bce39-ec09-420c-bd9e-1737da0d0192\",\"type\":\"VBar\"},{\"attributes\":{},\"id\":\"ffe94c7e-c060-40d3-8b0e-d311ddb5f9b5\",\"type\":\"CategoricalScale\"}],\"root_ids\":[\"3b46b21c-54aa-4fb8-8555-b7dc91f47844\"]},\"title\":\"Bokeh Application\",\"version\":\"0.12.10\"}};\n",
       "    var render_items = [{\"docid\":\"4830a0ac-217b-4dee-8310-b4c6927be3e7\",\"elementid\":\"adbe5e8c-48c5-47fa-b31a-626a1b561648\",\"modelid\":\"3b46b21c-54aa-4fb8-8555-b7dc91f47844\"}];\n",
       "\n",
       "    root.Bokeh.embed.embed_items(docs_json, render_items);\n",
       "  }\n",
       "\n",
       "  if (root.Bokeh !== undefined) {\n",
       "    embed_document(root);\n",
       "  } else {\n",
       "    var attempts = 0;\n",
       "    var timer = setInterval(function(root) {\n",
       "      if (root.Bokeh !== undefined) {\n",
       "        embed_document(root);\n",
       "        clearInterval(timer);\n",
       "      }\n",
       "      attempts++;\n",
       "      if (attempts > 100) {\n",
       "        console.log(\"Bokeh: ERROR: Unable to embed document because BokehJS library is missing\")\n",
       "        clearInterval(timer);\n",
       "      }\n",
       "    }, 10, root)\n",
       "  }\n",
       "})(window);"
      ],
      "application/vnd.bokehjs_exec.v0+json": ""
     },
     "metadata": {
      "application/vnd.bokehjs_exec.v0+json": {
       "id": "3b46b21c-54aa-4fb8-8555-b7dc91f47844"
      }
     },
     "output_type": "display_data"
    }
   ],
   "source": [
    "members = list(rating_matrix.columns)[:-1]\n",
    "tan_ratios_mean = sum(tan_oshi_ratios) / len(members)\n",
    "\n",
    "p = figure(plot_width=800, plot_height=450, x_range=members, title='Tan-Oshi Ratio')\n",
    "\n",
    "colors = ['#FDE724'] * len(members)\n",
    "colors[members.index('Izurina')] = '#35B778'\n",
    "p.vbar(top=tan_oshi_ratios, x=members, width=0.9, color=colors, legend='Tan-Oshi per Total-Oshi')\n",
    "p.line(x=members, y=[tan_ratios_mean] * len(members), color='#440154', line_width=2, line_dash='dotdash', legend='Average')\n",
    "\n",
    "p.xgrid.grid_line_color = None\n",
    "p.y_range.start = 0.\n",
    "p.xaxis.major_label_orientation = math.pi/2\n",
    "\n",
    "show(p)"
   ]
  },
  {
   "cell_type": "markdown",
   "metadata": {},
   "source": [
    "I decided to keep the data even though it's strange in my mind to test attack resistance for each algorithm I apply in the future."
   ]
  },
  {
   "cell_type": "code",
   "execution_count": 16,
   "metadata": {
    "collapsed": true
   },
   "outputs": [],
   "source": [
    "distinct_rating.rename(columns={'follwer_id': 'follower_id'})[['member', 'follower_id']]\\\n",
    "    .to_csv('ratings.csv', index=False)"
   ]
  },
  {
   "cell_type": "code",
   "execution_count": 18,
   "metadata": {},
   "outputs": [],
   "source": [
    "del rating_matrix['oshi_count']"
   ]
  },
  {
   "cell_type": "markdown",
   "metadata": {
    "collapsed": true
   },
   "source": [
    "## User reaction"
   ]
  },
  {
   "cell_type": "code",
   "execution_count": 19,
   "metadata": {},
   "outputs": [
    {
     "data": {
      "text/plain": [
       "count\n",
       "1.0     45201\n",
       "2.0      7374\n",
       "3.0      3625\n",
       "4.0      2139\n",
       "5.0      1531\n",
       "6.0      1058\n",
       "7.0       787\n",
       "8.0       608\n",
       "9.0       539\n",
       "10.0      459\n",
       "11.0      422\n",
       "12.0      342\n",
       "13.0      304\n",
       "14.0      255\n",
       "15.0      169\n",
       "16.0      160\n",
       "17.0      139\n",
       "18.0      102\n",
       "19.0       56\n",
       "20.0       29\n",
       "21.0       16\n",
       "22.0       10\n",
       "23.0        4\n",
       "24.0        1\n",
       "26.0        1\n",
       "Name: count, dtype: int64"
      ]
     },
     "execution_count": 19,
     "metadata": {},
     "output_type": "execute_result"
    }
   ],
   "source": [
    "num_member_by_users = rating_matrix.sum(axis=1).rename('count')\n",
    "user_member_hist = num_member_by_users.to_frame()\\\n",
    "                            .groupby('count')['count'].count()\n",
    "user_member_hist"
   ]
  },
  {
   "cell_type": "code",
   "execution_count": 32,
   "metadata": {},
   "outputs": [
    {
     "data": {
      "text/html": [
       "\n",
       "<div class=\"bk-root\">\n",
       "    <div class=\"bk-plotdiv\" id=\"b87f71ee-ced8-43d9-a620-2dcb3c10ba13\"></div>\n",
       "</div>"
      ]
     },
     "metadata": {},
     "output_type": "display_data"
    },
    {
     "data": {
      "application/javascript": [
       "(function(root) {\n",
       "  function embed_document(root) {\n",
       "    var docs_json = {\"463623cc-b1d8-4295-8ef4-22661f9499b8\":{\"roots\":{\"references\":[{\"attributes\":{\"data_source\":{\"id\":\"4fbbc239-dcb3-49f3-af27-46c731dcb022\",\"type\":\"ColumnDataSource\"},\"glyph\":{\"id\":\"310162a2-1280-41f1-8487-c029fb248379\",\"type\":\"VBar\"},\"hover_glyph\":null,\"muted_glyph\":null,\"nonselection_glyph\":{\"id\":\"1f45f637-6de1-4634-a08f-8c7ab6093df9\",\"type\":\"VBar\"},\"selection_glyph\":null,\"view\":{\"id\":\"82c4c659-6365-4e29-95bb-25e9c7447c1c\",\"type\":\"CDSView\"}},\"id\":\"51861f44-d385-45f8-b2b7-34b5ce9c913d\",\"type\":\"GlyphRenderer\"},{\"attributes\":{\"below\":[{\"id\":\"5d1f3ad5-0ee3-4c3b-ac8e-88fcab8504e7\",\"type\":\"LinearAxis\"}],\"left\":[{\"id\":\"5b8ca40a-2f82-4f16-a047-ca8ff2afade0\",\"type\":\"LinearAxis\"}],\"plot_height\":450,\"plot_width\":800,\"renderers\":[{\"id\":\"5d1f3ad5-0ee3-4c3b-ac8e-88fcab8504e7\",\"type\":\"LinearAxis\"},{\"id\":\"1234dbbe-5987-4bcf-97d9-e96da7bcef10\",\"type\":\"Grid\"},{\"id\":\"5b8ca40a-2f82-4f16-a047-ca8ff2afade0\",\"type\":\"LinearAxis\"},{\"id\":\"cbea9bdf-0772-4412-8e36-8c21b3b912e9\",\"type\":\"Grid\"},{\"id\":\"3a45007b-ff32-499f-af29-59aa73c18524\",\"type\":\"BoxAnnotation\"},{\"id\":\"51861f44-d385-45f8-b2b7-34b5ce9c913d\",\"type\":\"GlyphRenderer\"}],\"title\":{\"id\":\"ff0c5bd1-2d57-4144-bfc5-759ecbd0fb87\",\"type\":\"Title\"},\"toolbar\":{\"id\":\"0109356d-8895-491a-a267-8e025b34dc7e\",\"type\":\"Toolbar\"},\"x_range\":{\"id\":\"e782f593-88cc-473f-9825-951a9e690706\",\"type\":\"DataRange1d\"},\"x_scale\":{\"id\":\"e1781f9a-4088-4348-80d0-56e94311125b\",\"type\":\"LinearScale\"},\"y_range\":{\"id\":\"e556b583-a45f-41c8-bda5-af609ba29964\",\"type\":\"DataRange1d\"},\"y_scale\":{\"id\":\"1719f453-4597-4caa-ab6d-a5eb317649de\",\"type\":\"LinearScale\"}},\"id\":\"8813b3f9-bd6f-44c9-a732-70f6f7faa6de\",\"subtype\":\"Figure\",\"type\":\"Plot\"},{\"attributes\":{\"active_drag\":\"auto\",\"active_inspect\":\"auto\",\"active_scroll\":\"auto\",\"active_tap\":\"auto\",\"tools\":[{\"id\":\"733a099a-4c8f-4fa2-bc46-f025bffcb279\",\"type\":\"PanTool\"},{\"id\":\"a3cfd521-8363-45ba-80a0-4a532231da39\",\"type\":\"WheelZoomTool\"},{\"id\":\"fb64d8af-d8af-47a1-8e47-186cfb6c6788\",\"type\":\"BoxZoomTool\"},{\"id\":\"e6fcfcc1-a3e5-4faf-a7f6-664b6671de10\",\"type\":\"SaveTool\"},{\"id\":\"485d235f-0b15-4e70-bcfb-09fc168bbbb7\",\"type\":\"ResetTool\"},{\"id\":\"76c6de6a-3ed2-4d4c-9308-f90644ae8c29\",\"type\":\"HelpTool\"}]},\"id\":\"0109356d-8895-491a-a267-8e025b34dc7e\",\"type\":\"Toolbar\"},{\"attributes\":{\"plot\":{\"id\":\"8813b3f9-bd6f-44c9-a732-70f6f7faa6de\",\"subtype\":\"Figure\",\"type\":\"Plot\"},\"ticker\":{\"id\":\"9573ee80-c36b-4ee0-8885-4f70954d5f8e\",\"type\":\"BasicTicker\"}},\"id\":\"1234dbbe-5987-4bcf-97d9-e96da7bcef10\",\"type\":\"Grid\"},{\"attributes\":{},\"id\":\"83229168-6c83-4081-901e-9feddb1df7dd\",\"type\":\"BasicTickFormatter\"},{\"attributes\":{},\"id\":\"1719f453-4597-4caa-ab6d-a5eb317649de\",\"type\":\"LinearScale\"},{\"attributes\":{\"callback\":null,\"start\":0},\"id\":\"e556b583-a45f-41c8-bda5-af609ba29964\",\"type\":\"DataRange1d\"},{\"attributes\":{},\"id\":\"9573ee80-c36b-4ee0-8885-4f70954d5f8e\",\"type\":\"BasicTicker\"},{\"attributes\":{\"formatter\":{\"id\":\"83229168-6c83-4081-901e-9feddb1df7dd\",\"type\":\"BasicTickFormatter\"},\"plot\":{\"id\":\"8813b3f9-bd6f-44c9-a732-70f6f7faa6de\",\"subtype\":\"Figure\",\"type\":\"Plot\"},\"ticker\":{\"id\":\"9573ee80-c36b-4ee0-8885-4f70954d5f8e\",\"type\":\"BasicTicker\"}},\"id\":\"5d1f3ad5-0ee3-4c3b-ac8e-88fcab8504e7\",\"type\":\"LinearAxis\"},{\"attributes\":{\"source\":{\"id\":\"4fbbc239-dcb3-49f3-af27-46c731dcb022\",\"type\":\"ColumnDataSource\"}},\"id\":\"82c4c659-6365-4e29-95bb-25e9c7447c1c\",\"type\":\"CDSView\"},{\"attributes\":{\"fill_color\":{\"value\":\"#1f77b4\"},\"line_color\":{\"value\":\"#1f77b4\"},\"top\":{\"field\":\"top\"},\"width\":{\"value\":0.9},\"x\":{\"field\":\"x\"}},\"id\":\"310162a2-1280-41f1-8487-c029fb248379\",\"type\":\"VBar\"},{\"attributes\":{\"callback\":null},\"id\":\"e782f593-88cc-473f-9825-951a9e690706\",\"type\":\"DataRange1d\"},{\"attributes\":{},\"id\":\"616abe9f-4efb-405b-99e1-1001bec84fc3\",\"type\":\"BasicTicker\"},{\"attributes\":{},\"id\":\"523d4bb5-6ca9-4173-b92e-bbc251f8f850\",\"type\":\"BasicTickFormatter\"},{\"attributes\":{\"dimension\":1,\"plot\":{\"id\":\"8813b3f9-bd6f-44c9-a732-70f6f7faa6de\",\"subtype\":\"Figure\",\"type\":\"Plot\"},\"ticker\":{\"id\":\"616abe9f-4efb-405b-99e1-1001bec84fc3\",\"type\":\"BasicTicker\"}},\"id\":\"cbea9bdf-0772-4412-8e36-8c21b3b912e9\",\"type\":\"Grid\"},{\"attributes\":{\"bottom_units\":\"screen\",\"fill_alpha\":{\"value\":0.5},\"fill_color\":{\"value\":\"lightgrey\"},\"left_units\":\"screen\",\"level\":\"overlay\",\"line_alpha\":{\"value\":1.0},\"line_color\":{\"value\":\"black\"},\"line_dash\":[4,4],\"line_width\":{\"value\":2},\"plot\":null,\"render_mode\":\"css\",\"right_units\":\"screen\",\"top_units\":\"screen\"},\"id\":\"3a45007b-ff32-499f-af29-59aa73c18524\",\"type\":\"BoxAnnotation\"},{\"attributes\":{\"formatter\":{\"id\":\"523d4bb5-6ca9-4173-b92e-bbc251f8f850\",\"type\":\"BasicTickFormatter\"},\"plot\":{\"id\":\"8813b3f9-bd6f-44c9-a732-70f6f7faa6de\",\"subtype\":\"Figure\",\"type\":\"Plot\"},\"ticker\":{\"id\":\"616abe9f-4efb-405b-99e1-1001bec84fc3\",\"type\":\"BasicTicker\"}},\"id\":\"5b8ca40a-2f82-4f16-a047-ca8ff2afade0\",\"type\":\"LinearAxis\"},{\"attributes\":{},\"id\":\"a3cfd521-8363-45ba-80a0-4a532231da39\",\"type\":\"WheelZoomTool\"},{\"attributes\":{\"plot\":null,\"text\":\"No. of member follow distribution\"},\"id\":\"ff0c5bd1-2d57-4144-bfc5-759ecbd0fb87\",\"type\":\"Title\"},{\"attributes\":{},\"id\":\"485d235f-0b15-4e70-bcfb-09fc168bbbb7\",\"type\":\"ResetTool\"},{\"attributes\":{},\"id\":\"e6fcfcc1-a3e5-4faf-a7f6-664b6671de10\",\"type\":\"SaveTool\"},{\"attributes\":{},\"id\":\"e1781f9a-4088-4348-80d0-56e94311125b\",\"type\":\"LinearScale\"},{\"attributes\":{\"callback\":null,\"column_names\":[\"x\",\"top\"],\"data\":{\"top\":[45201,7374,3625,2139,1531,1058,787,608,539,459,422,342,304,255,169,160,139,102,56,29,16,10,4,1,1],\"x\":[1.0,2.0,3.0,4.0,5.0,6.0,7.0,8.0,9.0,10.0,11.0,12.0,13.0,14.0,15.0,16.0,17.0,18.0,19.0,20.0,21.0,22.0,23.0,24.0,26.0]}},\"id\":\"4fbbc239-dcb3-49f3-af27-46c731dcb022\",\"type\":\"ColumnDataSource\"},{\"attributes\":{},\"id\":\"733a099a-4c8f-4fa2-bc46-f025bffcb279\",\"type\":\"PanTool\"},{\"attributes\":{\"fill_alpha\":{\"value\":0.1},\"fill_color\":{\"value\":\"#1f77b4\"},\"line_alpha\":{\"value\":0.1},\"line_color\":{\"value\":\"#1f77b4\"},\"top\":{\"field\":\"top\"},\"width\":{\"value\":0.9},\"x\":{\"field\":\"x\"}},\"id\":\"1f45f637-6de1-4634-a08f-8c7ab6093df9\",\"type\":\"VBar\"},{\"attributes\":{\"overlay\":{\"id\":\"3a45007b-ff32-499f-af29-59aa73c18524\",\"type\":\"BoxAnnotation\"}},\"id\":\"fb64d8af-d8af-47a1-8e47-186cfb6c6788\",\"type\":\"BoxZoomTool\"},{\"attributes\":{},\"id\":\"76c6de6a-3ed2-4d4c-9308-f90644ae8c29\",\"type\":\"HelpTool\"}],\"root_ids\":[\"8813b3f9-bd6f-44c9-a732-70f6f7faa6de\"]},\"title\":\"Bokeh Application\",\"version\":\"0.12.10\"}};\n",
       "    var render_items = [{\"docid\":\"463623cc-b1d8-4295-8ef4-22661f9499b8\",\"elementid\":\"b87f71ee-ced8-43d9-a620-2dcb3c10ba13\",\"modelid\":\"8813b3f9-bd6f-44c9-a732-70f6f7faa6de\"}];\n",
       "\n",
       "    root.Bokeh.embed.embed_items(docs_json, render_items);\n",
       "  }\n",
       "\n",
       "  if (root.Bokeh !== undefined) {\n",
       "    embed_document(root);\n",
       "  } else {\n",
       "    var attempts = 0;\n",
       "    var timer = setInterval(function(root) {\n",
       "      if (root.Bokeh !== undefined) {\n",
       "        embed_document(root);\n",
       "        clearInterval(timer);\n",
       "      }\n",
       "      attempts++;\n",
       "      if (attempts > 100) {\n",
       "        console.log(\"Bokeh: ERROR: Unable to embed document because BokehJS library is missing\")\n",
       "        clearInterval(timer);\n",
       "      }\n",
       "    }, 10, root)\n",
       "  }\n",
       "})(window);"
      ],
      "application/vnd.bokehjs_exec.v0+json": ""
     },
     "metadata": {
      "application/vnd.bokehjs_exec.v0+json": {
       "id": "8813b3f9-bd6f-44c9-a732-70f6f7faa6de"
      }
     },
     "output_type": "display_data"
    }
   ],
   "source": [
    "p = figure(plot_width=800, plot_height=450, title='No. of member follow distribution')\n",
    "\n",
    "p.vbar(top=user_member_hist, x=list(user_member_hist.index),\n",
    "       width=0.9)\n",
    "\n",
    "p.y_range.start = 0\n",
    "show(p)"
   ]
  },
  {
   "cell_type": "markdown",
   "metadata": {},
   "source": [
    "### User who follow multiple members"
   ]
  },
  {
   "cell_type": "code",
   "execution_count": 36,
   "metadata": {},
   "outputs": [
    {
     "data": {
      "text/plain": [
       "20130"
      ]
     },
     "execution_count": 36,
     "metadata": {},
     "output_type": "execute_result"
    }
   ],
   "source": [
    "user_member_hist.sum() - user_member_hist.loc[1]"
   ]
  },
  {
   "cell_type": "code",
   "execution_count": 37,
   "metadata": {},
   "outputs": [
    {
     "data": {
      "text/plain": [
       "0.3081232492997199"
      ]
     },
     "execution_count": 37,
     "metadata": {},
     "output_type": "execute_result"
    }
   ],
   "source": [
    "1 - (user_member_hist.loc[1] / user_member_hist.sum())"
   ]
  }
 ],
 "metadata": {
  "kernelspec": {
   "display_name": "Python 3",
   "language": "python",
   "name": "python3"
  },
  "language_info": {
   "codemirror_mode": {
    "name": "ipython",
    "version": 3
   },
   "file_extension": ".py",
   "mimetype": "text/x-python",
   "name": "python",
   "nbconvert_exporter": "python",
   "pygments_lexer": "ipython3",
   "version": "3.6.3"
  }
 },
 "nbformat": 4,
 "nbformat_minor": 2
}
